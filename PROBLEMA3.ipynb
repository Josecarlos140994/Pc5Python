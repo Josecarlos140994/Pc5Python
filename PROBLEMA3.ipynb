{
 "cells": [
  {
   "cell_type": "code",
   "execution_count": 1,
   "metadata": {},
   "outputs": [],
   "source": [
    "import pandas as pd\n",
    "import unidecode\n",
    "\n"
   ]
  },
  {
   "cell_type": "code",
   "execution_count": 2,
   "metadata": {},
   "outputs": [],
   "source": [
    "\n",
    "\n",
    "def limpiar_nombres_columnas(col):\n",
    "    \"\"\"Limpia un nombre de columna.\"\"\"\n",
    "    col = str(col)  # Asegurarse de que col es una cadena\n",
    "    return col.strip().lower().replace(\" \", \"_\").replace(\"á\", \"a\").replace(\"é\", \"e\").replace(\"í\", \"i\").replace(\"ó\", \"o\").replace(\"ú\", \"u\").replace(\"ñ\", \"n\")\n",
    "\n",
    "\n",
    "\n"
   ]
  },
  {
   "cell_type": "code",
   "execution_count": 3,
   "metadata": {},
   "outputs": [],
   "source": [
    "\n",
    "def limpiar_dataframe(df):\n",
    "    \"\"\" Aplica limpieza general al dataframe. \"\"\"\n",
    "    # Renombrar columnas\n",
    "    df.columns = [limpiar_nombres_columnas(col) for col in df.columns]\n",
    "    \n",
    "    # Eliminar columnas no deseadas\n",
    "    df.drop(columns=['id', 'tipomoneda'], errors='ignore', inplace=True)  # 'errors' para ignorar si no existen\n",
    "    \n",
    "    # Limpiar columna 'dispositivo_legal' si existe\n",
    "    if 'dispositivo_legal' in df.columns:\n",
    "        df['dispositivo_legal'] = df['dispositivo_legal'].str.replace(\",\", \"\")\n",
    "    \n",
    "    return df\n"
   ]
  },
  {
   "cell_type": "code",
   "execution_count": 5,
   "metadata": {},
   "outputs": [],
   "source": [
    "def main():\n",
    "    # Cargar el archivo especificando que la fila de encabezados está, por ejemplo, en la segunda fila (índice 1)\n",
    "    df = pd.read_excel(\"./data/reactiva.xlsx\", header=1)\n",
    "    \n",
    "    # Imprimir los nombres de columnas cargados\n",
    "    print(\"Nombres de columna cargados:\", df.columns)\n",
    "    \n",
    "    # Limpiar el dataframe\n",
    "    df_limpio = limpiar_dataframe(df)\n",
    "    \n",
    "    # Guardar el dataframe limpio en un nuevo archivo Excel\n",
    "    df_limpio.to_excel(\"./data/reactiva_limpio1.xlsx\", index=False)\n",
    "\n"
   ]
  },
  {
   "cell_type": "code",
   "execution_count": 6,
   "metadata": {},
   "outputs": [
    {
     "name": "stdout",
     "output_type": "stream",
     "text": [
      "Nombres de columna cargados: Index(['ITEM', 'UBIGEO', 'SNIP', 'CUI', 'REGION', 'PROVINCIA', 'DISTRITO',\n",
      "       'PROYECTO', 'NORMA', 'DISPOSITIVO_2', 'AMBITO', 'UNIDAD EJECUTORA',\n",
      "       'TOTAL EMPLEOS', 'POBLACION BENEFICIARIA', 'TIPOLOGIA',\n",
      "       'MONTO DE INVERSIÓN', 'MONTO DE TRANSFERENCIA 2020',\n",
      "       'PLAZO DE EJECUCIÓN', 'TIPO DE PROCESO', 'ESTADO  SSP',\n",
      "       'SUB ESTADO SSP'],\n",
      "      dtype='object')\n"
     ]
    }
   ],
   "source": [
    "\n",
    "if __name__ == \"__main__\":\n",
    "    main()"
   ]
  }
 ],
 "metadata": {
  "kernelspec": {
   "display_name": "Python 3",
   "language": "python",
   "name": "python3"
  },
  "language_info": {
   "codemirror_mode": {
    "name": "ipython",
    "version": 3
   },
   "file_extension": ".py",
   "mimetype": "text/x-python",
   "name": "python",
   "nbconvert_exporter": "python",
   "pygments_lexer": "ipython3",
   "version": "3.10.13"
  }
 },
 "nbformat": 4,
 "nbformat_minor": 2
}
